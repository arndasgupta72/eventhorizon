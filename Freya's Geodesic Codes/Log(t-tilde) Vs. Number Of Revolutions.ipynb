{
 "cells": [
  {
   "cell_type": "code",
   "execution_count": 1,
   "id": "65444022",
   "metadata": {},
   "outputs": [],
   "source": [
    "import numpy as np\n",
    "import matplotlib.pyplot as plt"
   ]
  },
  {
   "cell_type": "code",
   "execution_count": 2,
   "id": "e8fcc27e",
   "metadata": {},
   "outputs": [],
   "source": [
    "# --- Physical Constants in SI units ---\n",
    "G = 6.67430e-11         # m^3 kg^-1 s^-2\n",
    "c = 2.99792458e8        # m/s\n",
    "M_sun = 1.989e30      # kg\n",
    "AU = 1.496e11           # m\n",
    "\n",
    "# Schwarzschild radius\n",
    "r_s = 2 * G * M_sun / c**2\n",
    "r_s2_inv = 1 / r_s**2"
   ]
  },
  {
   "cell_type": "code",
   "execution_count": 14,
   "id": "27dd7fbd",
   "metadata": {},
   "outputs": [],
   "source": [
    "# Semiclassical perturbation\n",
    "t_tilde = 0\n",
    "t_tilde1 = 0.1\n",
    "t_tilde2 = 0.01\n",
    "t_tilde3 = 1e-3\n",
    "t_tilde4 = 1e-4\n",
    "t_tilde5 = 1e-5\n",
    "t_tilde6 = 1e-6\n",
    "t_tilde7 = 1e-7\n",
    "t_tilde8 = 1e-8\n",
    "t_tilde9 = 1e-9\n",
    "t_tilde10 = 1e-10\n",
    "t_tilde11 = 1e-11\n",
    "t_tilde12 = 1e-12\n",
    "t_tilde13 = 1e-13\n",
    "t_tilde14 = 1e-14\n",
    "t_tilde15 = 1e-15"
   ]
  },
  {
   "cell_type": "code",
   "execution_count": 4,
   "id": "addecada",
   "metadata": {},
   "outputs": [],
   "source": [
    "# Critical distances\n",
    "P_c = 1.5 * r_s\n",
    "b_c = (3 * np.sqrt(3) / 2) * r_s\n",
    "zeta_sq = (r_s / b_c)**2"
   ]
  },
  {
   "cell_type": "code",
   "execution_count": 5,
   "id": "70f1e015",
   "metadata": {},
   "outputs": [],
   "source": [
    "def coth(z):\n",
    "    return 1.0 / np.tanh(z)\n",
    "\n",
    "def htt(x):\n",
    "    inv_x2 = 1.0 / (x * x)\n",
    "    return -2 * x**3 * (x**2 - coth(inv_x2))\n",
    "\n",
    "def hrr(x):\n",
    "    inv_x2 = 1.0 / (x * x)\n",
    "    denom = (1 - x)**2\n",
    "    return -2 * x**2 / denom * (x**2 - coth(inv_x2))\n",
    "\n",
    "def hphiphi(x):\n",
    "    return -2 * r_s**2 / x * (x - coth(1.0 / x))\n",
    "\n",
    "def g0(x):\n",
    "    return x**3 - x**2 + zeta_sq\n",
    "\n",
    "def dg0(x):\n",
    "    return 3 * x**2 - 2 * x\n",
    "\n",
    "def h(x):\n",
    "    g = g0(x)\n",
    "    h_rr = hrr(x)\n",
    "    h_pp = hphiphi(x)\n",
    "    h_tt = htt(x)\n",
    "\n",
    "    term1 = g * ((1 - x) * h_rr - x**2 * r_s2_inv * h_pp)\n",
    "    term2 = -zeta_sq * (x**2 * r_s2_inv * h_pp - h_tt / (1 - x))\n",
    "    return term1 + term2\n",
    "\n",
    "def dh(x):\n",
    "    dx = 1e-10\n",
    "    return (h(x + dx) - h(x - dx)) / (2 * dx)"
   ]
  },
  {
   "cell_type": "code",
   "execution_count": 6,
   "id": "05b8dd99",
   "metadata": {},
   "outputs": [],
   "source": [
    "def deriv(y,t):\n",
    "    x, v = y\n",
    "    return np.array([v, 0.5 * (dg0(x) + t * dh(x))])\n",
    "\n",
    "def rk4_step(y, h,t):\n",
    "    k1 = h * deriv(y,t)\n",
    "    k2 = h * deriv(y + 0.5 * k1,t)\n",
    "    k3 = h * deriv(y + 0.5 * k2,t)\n",
    "    k4 = h * deriv(y + k3,t)\n",
    "    return y + (k1 + 2*k2 + 2*k3 + k4) / 6.0\n",
    "\n",
    "def integrate_rk4(y_ini, phis, h_phi,t):\n",
    "    N = len(phis)\n",
    "    ys = np.empty((N, 2))\n",
    "    y = y_ini.copy()\n",
    "    for i in range(N):\n",
    "        ys[i] = y\n",
    "        y = rk4_step(y, h_phi,t)\n",
    "    return ys"
   ]
  },
  {
   "cell_type": "code",
   "execution_count": 7,
   "id": "a331ca3b",
   "metadata": {},
   "outputs": [],
   "source": [
    "# Initial conditions\n",
    "x0 = r_s / P_c\n",
    "v0 = 0.0\n",
    "y_ini = np.array([x0, v0])\n",
    "\n",
    "# Integration setup\n",
    "n_revolutions = 50\n",
    "# h_phi = 1e-7\n",
    "h_phi = 10**-3\n",
    "phis = np.arange(0, 2 * np.pi * n_revolutions, h_phi)"
   ]
  },
  {
   "cell_type": "code",
   "execution_count": 8,
   "id": "3ca78438",
   "metadata": {},
   "outputs": [],
   "source": [
    "#trial code to find the numer of revolutions before the deviation becomes significant\n",
    "def find_separation_point(y_ini, h_phi, t1, t2):\n",
    "    ys1 = []\n",
    "    ys2 = []\n",
    "    y1 = y_ini.copy()\n",
    "    y2 = y_ini.copy()\n",
    "    while abs(y1[0]-y2[0]) < 0.01:\n",
    "        ys1.append(y1)\n",
    "        ys2.append(y2)\n",
    "        y1 = rk4_step(y1, h_phi,t1)\n",
    "        y2 = rk4_step(y2, h_phi,t2)\n",
    "    index = len(ys2)\n",
    "    total_angle_change = phis[index]\n",
    "    number_of_revolutions = total_angle_change/(2*np.pi)\n",
    "    return number_of_revolutions"
   ]
  },
  {
   "cell_type": "code",
   "execution_count": 15,
   "id": "489e4d96",
   "metadata": {},
   "outputs": [],
   "source": [
    "#Calculations\n",
    "N1 = find_separation_point(y_ini, h_phi, t_tilde, t_tilde1) \n",
    "N2 = find_separation_point(y_ini, h_phi, t_tilde, t_tilde2)\n",
    "N3 = find_separation_point(y_ini, h_phi, t_tilde, t_tilde3) \n",
    "N4 = find_separation_point(y_ini, h_phi, t_tilde, t_tilde4) \n",
    "N5 = find_separation_point(y_ini, h_phi, t_tilde, t_tilde5) \n",
    "N6 = find_separation_point(y_ini, h_phi, t_tilde, t_tilde6) \n",
    "N7 = find_separation_point(y_ini, h_phi, t_tilde, t_tilde7) \n",
    "N8 = find_separation_point(y_ini, h_phi, t_tilde, t_tilde8) \n",
    "N9 = find_separation_point(y_ini, h_phi, t_tilde, t_tilde9) \n",
    "N10 = find_separation_point(y_ini, h_phi, t_tilde, t_tilde10) \n",
    "N11 = find_separation_point(y_ini, h_phi, t_tilde, t_tilde11) \n",
    "N12 = find_separation_point(y_ini, h_phi, t_tilde, t_tilde12) \n",
    "N13 = find_separation_point(y_ini, h_phi, t_tilde, t_tilde13) \n",
    "N14 = find_separation_point(y_ini, h_phi, t_tilde, t_tilde14)\n",
    "N15 = find_separation_point(y_ini, h_phi, t_tilde, t_tilde15) "
   ]
  },
  {
   "cell_type": "code",
   "execution_count": 16,
   "id": "9c8c72fc",
   "metadata": {},
   "outputs": [
    {
     "data": {
      "image/png": "[encoded data removed]",
      "text/plain": [
       "<Figure size 432x288 with 1 Axes>"
      ]
     },
     "metadata": {
      "needs_background": "light"
     },
     "output_type": "display_data"
    }
   ],
   "source": [
    "#plotting the results\n",
    "log_t_tilde = [-1,-2,-3,-4,-5,-6,-7,-8,-9,-10,-11,-12, -13, -14, -15]\n",
    "N_turns = [N1,N2,N3,N4,N5,N6,N7,N8,N9,N10,N11,N12, N13, N14, N15]\n",
    "\n",
    "plt.figure()\n",
    "plt.scatter(log_t_tilde, N_turns)\n",
    "plt.xlabel('$log_{10}(t_{tilde})$')\n",
    "plt.ylabel('Number of rotations')\n",
    "plt.show()"
   ]
  },
  {
   "cell_type": "code",
   "execution_count": 17,
   "id": "8f0ecfbc",
   "metadata": {},
   "outputs": [],
   "source": [
    "import scipy.optimize\n",
    "import scipy.stats"
   ]
  },
  {
   "cell_type": "code",
   "execution_count": 18,
   "id": "6a12e821",
   "metadata": {},
   "outputs": [
    {
     "data": {
      "image/png": "[encoded data removed]",
      "text/plain": [
       "<Figure size 360x216 with 3 Axes>"
      ]
     },
     "metadata": {
      "needs_background": "light"
     },
     "output_type": "display_data"
    },
    {
     "name": "stdout",
     "output_type": "stream",
     "text": [
      "chi^2_min = 2973462.295370013\n",
      "reduced chi^2 = 228727.8688746164\n",
      "P(chi^2_min, DoF) = 0.0\n",
      "optimised parameter[0] = (-0.8996687856170587 +/- 0.0005976143012821605) units\n",
      "optimised parameter[1] = (-3.275390523863758 +/- 0.005433581604062741) units\n"
     ]
    }
   ],
   "source": [
    "#for now, I'm going to assume a constant error of 0.01, just to run the code with. \n",
    "#If anyone would like to suggest an improvement let me know. I will keep working on it\n",
    "y_errors1 = [0.01,0.01,0.01,0.01,0.01,0.01,0.01,0.01,0.01,0.01,0.01,0.01,0.01,0.01,0.01]\n",
    "\n",
    "def model_function1(x, *params):\n",
    "    return params[0]*x + params[1]\n",
    "\n",
    "initial_values = np.array([-0.3, 0])\n",
    "\n",
    "def chi_squared(model_params, model, x_data, y_data, y_err):\n",
    "    return np.sum(((y_data - model(x_data, *model_params))/y_err)**2) # Note the `*model_params' here!\n",
    "\n",
    "x_values1 = np.array(log_t_tilde)\n",
    "y_values1 = np.array(N_turns)\n",
    "\n",
    "degrees_of_freedom = x_values1.size - initial_values.size\n",
    "\n",
    "fit = scipy.optimize.minimize(chi_squared, # the function to minimize\n",
    "                              initial_values, # where in 'parameter space' to start from\n",
    "                              args=(model_function1, x_values1, y_values1, y_errors1))\n",
    "\n",
    "popt1, cov1 = scipy.optimize.curve_fit(model_function1, # function to fit\n",
    "                                     x_values1, # x data\n",
    "                                     y_values1, # y data\n",
    "                                     sigma=y_errors1, # array of error bars for the fit\n",
    "                                     absolute_sigma=True, # errors bars DO represent 1 std error\n",
    "                                     p0=initial_values, # starting point for fit\n",
    "                                     check_finite=True) # raise ValueError if NaN encountered (don't allow errors to pass)\n",
    "\n",
    "popt1_errs = np.sqrt(np.diag(cov1))\n",
    "\n",
    "normalisedresiduals1 = (y_values1 - model_function1(x_values1, *popt1))/y_errors1\n",
    "\n",
    "plt.figure(figsize=(5,3))\n",
    "plt.errorbar(x_values1, \n",
    "             y_values1, \n",
    "             yerr=y_errors1, \n",
    "             marker='o', \n",
    "             linestyle='None')\n",
    "\n",
    "plt.ylabel('$log_{10}(t_{tilde})$')\n",
    "\n",
    "# Generate best fit using model function and best fit parameters, and add to plot\n",
    "plt.plot(x_values1, \n",
    "         model_function1(x_values1, *popt1), \n",
    "         color='r')\n",
    "\n",
    "plt.figure(1).add_axes((0.15, -0.1, 0.75, 0.2))\n",
    "\n",
    "plt.scatter(x_values1, normalisedresiduals1, marker = \".\", color = 'black')\n",
    "\n",
    "plt.axhline(y=0, color = 'orange')\n",
    "\n",
    "plt.xlabel(\"Number of rotations\")\n",
    "plt.ylabel(\"Normalised Residuals ($\\sigma$)\")\n",
    "\n",
    "plt.figure(1).add_axes((0.9, -0.1, 0.3, 0.2))\n",
    "\n",
    "plt.hist(normalisedresiduals1, density = True, color = 'black', orientation = \"horizontal\")\n",
    "\n",
    "plt.gca().axes.get_yaxis().set_ticks([])\n",
    "\n",
    "plt.xlabel(\"Ocurrence\")\n",
    "\n",
    "plt.show()\n",
    "\n",
    "chi_squared_min = chi_squared(popt1, model_function1, x_values1, y_values1, y_errors1)\n",
    "print('chi^2_min = {}'.format(chi_squared_min))\n",
    "print('reduced chi^2 = {}'.format(chi_squared_min/degrees_of_freedom))\n",
    "print('P(chi^2_min, DoF) = {}'.format(scipy.stats.chi2.sf(chi_squared_min, degrees_of_freedom)))\n",
    "for i, (val, err) in enumerate(zip(popt1, popt1_errs)):\n",
    "    print('optimised parameter[{}] = ({} +/- {}) units'.format(i, val, err))"
   ]
  },
  {
   "cell_type": "code",
   "execution_count": 22,
   "id": "984e19a8",
   "metadata": {},
   "outputs": [
    {
     "data": {
      "image/png": "[encoded data removed]",
      "text/plain": [
       "<Figure size 360x216 with 3 Axes>"
      ]
     },
     "metadata": {
      "needs_background": "light"
     },
     "output_type": "display_data"
    },
    {
     "name": "stdout",
     "output_type": "stream",
     "text": [
      "chi^2_min = 641244.4568063731\n",
      "reduced chi^2 = 58294.95061876119\n",
      "P(chi^2_min, DoF) = 0.0\n",
      "optimised parameter[0] = (-0.8996687856170587 +/- 0.0005976143012821605) units\n",
      "optimised parameter[1] = (-3.275390523863758 +/- 0.005433581604062741) units\n"
     ]
    }
   ],
   "source": [
    "x_values2 = x_values1[:13]\n",
    "y_values2 = y_values1[:13]\n",
    "y_errors2 = y_errors1[:13]\n",
    "\n",
    "degrees_of_freedom = x_values2.size - initial_values.size\n",
    "\n",
    "fit = scipy.optimize.minimize(chi_squared, # the function to minimize\n",
    "                              initial_values, # where in 'parameter space' to start from\n",
    "                              args=(model_function1, x_values2, y_values2, y_errors2))\n",
    "\n",
    "popt2, cov2 = scipy.optimize.curve_fit(model_function1, # function to fit\n",
    "                                     x_values2, # x data\n",
    "                                     y_values2, # y data\n",
    "                                     sigma=y_errors2, # array of error bars for the fit\n",
    "                                     absolute_sigma=True, # errors bars DO represent 1 std error\n",
    "                                     p0=initial_values, # starting point for fit\n",
    "                                     check_finite=True) # raise ValueError if NaN encountered (don't allow errors to pass)\n",
    "\n",
    "popt2_errs = np.sqrt(np.diag(cov1))\n",
    "\n",
    "normalisedresiduals2 = (y_values2 - model_function1(x_values2, *popt2))/y_errors2\n",
    "\n",
    "plt.figure(figsize=(5,3))\n",
    "plt.errorbar(x_values2, \n",
    "             y_values2, \n",
    "             yerr=y_errors2, \n",
    "             marker='o', \n",
    "             linestyle='None')\n",
    "\n",
    "plt.ylabel('$log_{10}(t_{tilde})$')\n",
    "\n",
    "# Generate best fit using model function and best fit parameters, and add to plot\n",
    "plt.plot(x_values2, \n",
    "         model_function1(x_values2, *popt2), \n",
    "         color='r')\n",
    "\n",
    "plt.figure(1).add_axes((0.15, -0.1, 0.75, 0.2))\n",
    "\n",
    "plt.scatter(x_values2, normalisedresiduals2, marker = \".\", color = 'black')\n",
    "\n",
    "plt.axhline(y=0, color = 'orange')\n",
    "\n",
    "plt.xlabel(\"Number of rotations\")\n",
    "plt.ylabel(\"Normalised Residuals ($\\sigma$)\")\n",
    "\n",
    "plt.figure(1).add_axes((0.9, -0.1, 0.3, 0.2))\n",
    "\n",
    "plt.hist(normalisedresiduals1, density = True, color = 'black', orientation = \"horizontal\")\n",
    "\n",
    "plt.gca().axes.get_yaxis().set_ticks([])\n",
    "\n",
    "plt.xlabel(\"Ocurrence\")\n",
    "\n",
    "plt.show()\n",
    "\n",
    "chi_squared_min = chi_squared(popt1, model_function1, x_values2, y_values2, y_errors2)\n",
    "print('chi^2_min = {}'.format(chi_squared_min))\n",
    "print('reduced chi^2 = {}'.format(chi_squared_min/degrees_of_freedom))\n",
    "print('P(chi^2_min, DoF) = {}'.format(scipy.stats.chi2.sf(chi_squared_min, degrees_of_freedom)))\n",
    "for i, (val, err) in enumerate(zip(popt1, popt1_errs)):\n",
    "    print('optimised parameter[{}] = ({} +/- {}) units'.format(i, val, err))"
   ]
  },
  {
   "cell_type": "code",
   "execution_count": null,
   "id": "abe3e541",
   "metadata": {},
   "outputs": [],
   "source": []
  }
 ],
 "metadata": {
  "kernelspec": {
   "display_name": "Python 3 (ipykernel)",
   "language": "python",
   "name": "python3"
  },
  "language_info": {
   "codemirror_mode": {
    "name": "ipython",
    "version": 3
   },
   "file_extension": ".py",
   "mimetype": "text/x-python",
   "name": "python",
   "nbconvert_exporter": "python",
   "pygments_lexer": "ipython3",
   "version": "3.9.12"
  }
 },
 "nbformat": 4,
 "nbformat_minor": 5
}
